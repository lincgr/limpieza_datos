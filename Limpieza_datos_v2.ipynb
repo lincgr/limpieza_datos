{
  "nbformat": 4,
  "nbformat_minor": 0,
  "metadata": {
    "colab": {
      "name": "Limpieza_datos.ipynb",
      "provenance": [],
      "collapsed_sections": [],
      "mount_file_id": "1OtG0J-VXgmKJmsCDnO1W_w64wHJgjXv6",
      "authorship_tag": "ABX9TyNGGhsRW/PM0xu8Sh/vPqta",
      "include_colab_link": true
    },
    "kernelspec": {
      "name": "python3",
      "display_name": "Python 3"
    },
    "language_info": {
      "name": "python"
    }
  },
  "cells": [
    {
      "cell_type": "markdown",
      "metadata": {
        "id": "view-in-github",
        "colab_type": "text"
      },
      "source": [
        "<a href=\"https://colab.research.google.com/github/lincgr/limpieza_datos/blob/master/Limpieza_datos_v2.ipynb\" target=\"_parent\"><img src=\"https://colab.research.google.com/assets/colab-badge.svg\" alt=\"Open In Colab\"/></a>"
      ]
    },
    {
      "cell_type": "code",
      "metadata": {
        "colab": {
          "base_uri": "https://localhost:8080/"
        },
        "id": "l6hINyZiHhU9",
        "outputId": "bb0fc6e5-c207-4f75-e9c7-c023fcf3511a"
      },
      "source": [
        "from google.colab import drive\n",
        "drive.mount('/content/drive')"
      ],
      "execution_count": 46,
      "outputs": [
        {
          "output_type": "stream",
          "text": [
            "Drive already mounted at /content/drive; to attempt to forcibly remount, call drive.mount(\"/content/drive\", force_remount=True).\n"
          ],
          "name": "stdout"
        }
      ]
    },
    {
      "cell_type": "code",
      "metadata": {
        "id": "vgk1Oy2JEXZe"
      },
      "source": [
        "# Cargamos las librerias necesarias\n",
        "import numpy as np\n",
        "import pandas as pd\n",
        "\n",
        "#Cargando datos adquiridos\n",
        "#df = dataframe\n",
        "df = pd.read_csv('/content/drive/MyDrive/Dataset/propiedades.csv')"
      ],
      "execution_count": 47,
      "outputs": []
    },
    {
      "cell_type": "code",
      "metadata": {
        "colab": {
          "base_uri": "https://localhost:8080/",
          "height": 328
        },
        "id": "hc1Tev1iX9RU",
        "outputId": "61641c7c-f1bb-4eed-dd13-6941b5ee1b25"
      },
      "source": [
        "#Mostrando una muestra de los datos. \n",
        "df.head(20)"
      ],
      "execution_count": 48,
      "outputs": [
        {
          "output_type": "execute_result",
          "data": {
            "text/html": [
              "<div>\n",
              "<style scoped>\n",
              "    .dataframe tbody tr th:only-of-type {\n",
              "        vertical-align: middle;\n",
              "    }\n",
              "\n",
              "    .dataframe tbody tr th {\n",
              "        vertical-align: top;\n",
              "    }\n",
              "\n",
              "    .dataframe thead th {\n",
              "        text-align: right;\n",
              "    }\n",
              "</style>\n",
              "<table border=\"1\" class=\"dataframe\">\n",
              "  <thead>\n",
              "    <tr style=\"text-align: right;\">\n",
              "      <th></th>\n",
              "      <th>PROPIETARIO</th>\n",
              "      <th>METROS</th>\n",
              "      <th>PROPIEDAD_OCUPADA</th>\n",
              "      <th>NUM_CUARTOS</th>\n",
              "    </tr>\n",
              "  </thead>\n",
              "  <tbody>\n",
              "    <tr>\n",
              "      <th>0</th>\n",
              "      <td>EDURNE</td>\n",
              "      <td>104.0</td>\n",
              "      <td>Y</td>\n",
              "      <td>3</td>\n",
              "    </tr>\n",
              "    <tr>\n",
              "      <th>1</th>\n",
              "      <td>DESIREE</td>\n",
              "      <td>197.0</td>\n",
              "      <td>N</td>\n",
              "      <td>3</td>\n",
              "    </tr>\n",
              "    <tr>\n",
              "      <th>2</th>\n",
              "      <td>DESIREE</td>\n",
              "      <td>NaN</td>\n",
              "      <td>N</td>\n",
              "      <td>NaN</td>\n",
              "    </tr>\n",
              "    <tr>\n",
              "      <th>3</th>\n",
              "      <td>ROSENDO</td>\n",
              "      <td>201.0</td>\n",
              "      <td>12</td>\n",
              "      <td>1</td>\n",
              "    </tr>\n",
              "    <tr>\n",
              "      <th>4</th>\n",
              "      <td>ROSENDO</td>\n",
              "      <td>203.0</td>\n",
              "      <td>Y</td>\n",
              "      <td>3</td>\n",
              "    </tr>\n",
              "    <tr>\n",
              "      <th>5</th>\n",
              "      <td>ROSENDO</td>\n",
              "      <td>207.0</td>\n",
              "      <td>Y</td>\n",
              "      <td>NaN</td>\n",
              "    </tr>\n",
              "    <tr>\n",
              "      <th>6</th>\n",
              "      <td>JAIME</td>\n",
              "      <td>NaN</td>\n",
              "      <td>NaN</td>\n",
              "      <td>2</td>\n",
              "    </tr>\n",
              "    <tr>\n",
              "      <th>7</th>\n",
              "      <td>NAIARA</td>\n",
              "      <td>213.0</td>\n",
              "      <td>Y</td>\n",
              "      <td>--</td>\n",
              "    </tr>\n",
              "    <tr>\n",
              "      <th>8</th>\n",
              "      <td>NAIARA</td>\n",
              "      <td>215.0</td>\n",
              "      <td>Y</td>\n",
              "      <td>na</td>\n",
              "    </tr>\n",
              "  </tbody>\n",
              "</table>\n",
              "</div>"
            ],
            "text/plain": [
              "  PROPIETARIO  METROS PROPIEDAD_OCUPADA NUM_CUARTOS\n",
              "0      EDURNE   104.0                 Y           3\n",
              "1     DESIREE   197.0                 N           3\n",
              "2     DESIREE     NaN                 N         NaN\n",
              "3     ROSENDO   201.0                12           1\n",
              "4     ROSENDO   203.0                 Y           3\n",
              "5     ROSENDO   207.0                 Y         NaN\n",
              "6       JAIME     NaN               NaN           2\n",
              "7      NAIARA   213.0                 Y          --\n",
              "8      NAIARA   215.0                 Y          na"
            ]
          },
          "metadata": {
            "tags": []
          },
          "execution_count": 48
        }
      ]
    },
    {
      "cell_type": "markdown",
      "metadata": {
        "id": "0tpHKOHBXkac"
      },
      "source": [
        "#Valores perdidos estándar\n",
        "\n",
        "> Bloque con sangría\n",
        "\n",
        "\n",
        "Entonces, ¿qué quiero decir con \"valores perdidos estándar\"? Estos son valores perdidos que Pandas puede detectar."
      ]
    },
    {
      "cell_type": "code",
      "metadata": {
        "colab": {
          "base_uri": "https://localhost:8080/"
        },
        "id": "THDNyYhkXjGL",
        "outputId": "ac44effd-6580-483f-d096-5bd93c49e705"
      },
      "source": [
        "#Valores de la Calle\n",
        "print(df['METROS'])\n"
      ],
      "execution_count": 49,
      "outputs": [
        {
          "output_type": "stream",
          "text": [
            "0    104.0\n",
            "1    197.0\n",
            "2      NaN\n",
            "3    201.0\n",
            "4    203.0\n",
            "5    207.0\n",
            "6      NaN\n",
            "7    213.0\n",
            "8    215.0\n",
            "Name: METROS, dtype: float64\n"
          ],
          "name": "stdout"
        }
      ]
    },
    {
      "cell_type": "code",
      "metadata": {
        "colab": {
          "base_uri": "https://localhost:8080/"
        },
        "id": "-o8W1R0dYR8w",
        "outputId": "30959aba-ea3b-46aa-b7fc-2127e028d0cc"
      },
      "source": [
        "#Mostrar si son nulos o no\n",
        "#Echando un vistazo a la columna, podemos ver que Pandas llenó el espacio en blanco con \"NA\". \n",
        "#Usando el método isnull (), podemos confirmar que tanto el valor perdido (Blanco) como “NA” fueron reconocidos como valores perdidos. \n",
        "#Ambas respuestas booleanas son verdaderas.\n",
        "\n",
        "#Este es un ejemplo simple, pero destaca un punto importante. \n",
        "#Pandas reconocerá tanto las celdas vacías como los tipos \"NA\" como valores perdidos.\n",
        "\n",
        "\n",
        "print(df['METROS'].isnull())"
      ],
      "execution_count": 50,
      "outputs": [
        {
          "output_type": "stream",
          "text": [
            "0    False\n",
            "1    False\n",
            "2     True\n",
            "3    False\n",
            "4    False\n",
            "5    False\n",
            "6     True\n",
            "7    False\n",
            "8    False\n",
            "Name: METROS, dtype: bool\n"
          ],
          "name": "stdout"
        }
      ]
    },
    {
      "cell_type": "markdown",
      "metadata": {
        "id": "vf7_5T2FcPME"
      },
      "source": [
        "#Valores perdidos no estándar \n",
        "A veces puede darse el caso de que falten valores que tengan diferentes formatos. Por ejemplo en la columna Numero de cuartos [--, na]"
      ]
    },
    {
      "cell_type": "code",
      "metadata": {
        "colab": {
          "base_uri": "https://localhost:8080/"
        },
        "id": "NEbzbPmqctWs",
        "outputId": "dfe88d87-97e9-439d-c96b-c45776845984"
      },
      "source": [
        "df['NUM_CUARTOS']"
      ],
      "execution_count": 51,
      "outputs": [
        {
          "output_type": "execute_result",
          "data": {
            "text/plain": [
              "0      3\n",
              "1      3\n",
              "2    NaN\n",
              "3      1\n",
              "4      3\n",
              "5    NaN\n",
              "6      2\n",
              "7     --\n",
              "8     na\n",
              "Name: NUM_CUARTOS, dtype: object"
            ]
          },
          "metadata": {
            "tags": []
          },
          "execution_count": 51
        }
      ]
    },
    {
      "cell_type": "code",
      "metadata": {
        "colab": {
          "base_uri": "https://localhost:8080/"
        },
        "id": "V9WkNkZcdyTq",
        "outputId": "4da41bea-6888-418b-93f9-8105d0339ebe"
      },
      "source": [
        "df['NUM_CUARTOS'].isnull()"
      ],
      "execution_count": 52,
      "outputs": [
        {
          "output_type": "execute_result",
          "data": {
            "text/plain": [
              "0    False\n",
              "1    False\n",
              "2     True\n",
              "3    False\n",
              "4    False\n",
              "5     True\n",
              "6    False\n",
              "7    False\n",
              "8    False\n",
              "Name: NUM_CUARTOS, dtype: bool"
            ]
          },
          "metadata": {
            "tags": []
          },
          "execution_count": 52
        }
      ]
    },
    {
      "cell_type": "markdown",
      "metadata": {
        "id": "iS-1sJnCe5qT"
      },
      "source": [
        "Si varios usuarios ingresan datos manualmente, este es un problema común. Tal vez un usuario utiliza \"--\" pero otro usuario puede colocar \"na\".\n",
        "Una forma sencilla de detectar estos distintos formatos es ponerlos en una lista.\n",
        "\n",
        "na_values: se utiliza para crear una cadena que considera a los pandas como NaN (no es un número).\n"
      ]
    },
    {
      "cell_type": "code",
      "metadata": {
        "colab": {
          "base_uri": "https://localhost:8080/",
          "height": 297
        },
        "id": "TXgpwl65-tLG",
        "outputId": "60b31693-eea0-4b66-d571-204c51879339"
      },
      "source": [
        "df.head(8)"
      ],
      "execution_count": 67,
      "outputs": [
        {
          "output_type": "execute_result",
          "data": {
            "text/html": [
              "<div>\n",
              "<style scoped>\n",
              "    .dataframe tbody tr th:only-of-type {\n",
              "        vertical-align: middle;\n",
              "    }\n",
              "\n",
              "    .dataframe tbody tr th {\n",
              "        vertical-align: top;\n",
              "    }\n",
              "\n",
              "    .dataframe thead th {\n",
              "        text-align: right;\n",
              "    }\n",
              "</style>\n",
              "<table border=\"1\" class=\"dataframe\">\n",
              "  <thead>\n",
              "    <tr style=\"text-align: right;\">\n",
              "      <th></th>\n",
              "      <th>PROPIETARIO</th>\n",
              "      <th>METROS</th>\n",
              "      <th>PROPIEDAD_OCUPADA</th>\n",
              "      <th>NUM_CUARTOS</th>\n",
              "    </tr>\n",
              "  </thead>\n",
              "  <tbody>\n",
              "    <tr>\n",
              "      <th>0</th>\n",
              "      <td>EDURNE</td>\n",
              "      <td>104.0</td>\n",
              "      <td>Y</td>\n",
              "      <td>3</td>\n",
              "    </tr>\n",
              "    <tr>\n",
              "      <th>1</th>\n",
              "      <td>DESIREE</td>\n",
              "      <td>197.0</td>\n",
              "      <td>N</td>\n",
              "      <td>3</td>\n",
              "    </tr>\n",
              "    <tr>\n",
              "      <th>2</th>\n",
              "      <td>DESIREE</td>\n",
              "      <td>125.0</td>\n",
              "      <td>N</td>\n",
              "      <td>3</td>\n",
              "    </tr>\n",
              "    <tr>\n",
              "      <th>3</th>\n",
              "      <td>ROSENDO</td>\n",
              "      <td>201.0</td>\n",
              "      <td>NaN</td>\n",
              "      <td>1</td>\n",
              "    </tr>\n",
              "    <tr>\n",
              "      <th>4</th>\n",
              "      <td>ROSENDO</td>\n",
              "      <td>203.0</td>\n",
              "      <td>Y</td>\n",
              "      <td>3</td>\n",
              "    </tr>\n",
              "    <tr>\n",
              "      <th>5</th>\n",
              "      <td>ROSENDO</td>\n",
              "      <td>207.0</td>\n",
              "      <td>Y</td>\n",
              "      <td>3</td>\n",
              "    </tr>\n",
              "    <tr>\n",
              "      <th>6</th>\n",
              "      <td>JAIME</td>\n",
              "      <td>125.0</td>\n",
              "      <td>NaN</td>\n",
              "      <td>2</td>\n",
              "    </tr>\n",
              "    <tr>\n",
              "      <th>7</th>\n",
              "      <td>NAIARA</td>\n",
              "      <td>213.0</td>\n",
              "      <td>Y</td>\n",
              "      <td>3</td>\n",
              "    </tr>\n",
              "  </tbody>\n",
              "</table>\n",
              "</div>"
            ],
            "text/plain": [
              "  PROPIETARIO  METROS PROPIEDAD_OCUPADA NUM_CUARTOS\n",
              "0      EDURNE   104.0                 Y           3\n",
              "1     DESIREE   197.0                 N           3\n",
              "2     DESIREE   125.0                 N           3\n",
              "3     ROSENDO   201.0               NaN           1\n",
              "4     ROSENDO   203.0                 Y           3\n",
              "5     ROSENDO   207.0                 Y           3\n",
              "6       JAIME   125.0               NaN           2\n",
              "7      NAIARA   213.0                 Y           3"
            ]
          },
          "metadata": {
            "tags": []
          },
          "execution_count": 67
        }
      ]
    },
    {
      "cell_type": "code",
      "metadata": {
        "id": "_88BhFxdeIfA"
      },
      "source": [
        "valores_faltants = [\"na\", \"--\"]\n",
        "#df = pd.read_csv('/content/drive/MyDrive/Dataset/propiedades.csv', na_values = valores_faltants)\n",
        "df = df.replace(valores_faltants, np.nan)"
      ],
      "execution_count": 68,
      "outputs": []
    },
    {
      "cell_type": "code",
      "metadata": {
        "colab": {
          "base_uri": "https://localhost:8080/",
          "height": 204
        },
        "id": "63hbEXrR-qoR",
        "outputId": "b4569dc2-7fc8-4562-b547-3d3582034dbd"
      },
      "source": [
        "df.head()"
      ],
      "execution_count": 69,
      "outputs": [
        {
          "output_type": "execute_result",
          "data": {
            "text/html": [
              "<div>\n",
              "<style scoped>\n",
              "    .dataframe tbody tr th:only-of-type {\n",
              "        vertical-align: middle;\n",
              "    }\n",
              "\n",
              "    .dataframe tbody tr th {\n",
              "        vertical-align: top;\n",
              "    }\n",
              "\n",
              "    .dataframe thead th {\n",
              "        text-align: right;\n",
              "    }\n",
              "</style>\n",
              "<table border=\"1\" class=\"dataframe\">\n",
              "  <thead>\n",
              "    <tr style=\"text-align: right;\">\n",
              "      <th></th>\n",
              "      <th>PROPIETARIO</th>\n",
              "      <th>METROS</th>\n",
              "      <th>PROPIEDAD_OCUPADA</th>\n",
              "      <th>NUM_CUARTOS</th>\n",
              "    </tr>\n",
              "  </thead>\n",
              "  <tbody>\n",
              "    <tr>\n",
              "      <th>0</th>\n",
              "      <td>EDURNE</td>\n",
              "      <td>104.0</td>\n",
              "      <td>Y</td>\n",
              "      <td>3</td>\n",
              "    </tr>\n",
              "    <tr>\n",
              "      <th>1</th>\n",
              "      <td>DESIREE</td>\n",
              "      <td>197.0</td>\n",
              "      <td>N</td>\n",
              "      <td>3</td>\n",
              "    </tr>\n",
              "    <tr>\n",
              "      <th>2</th>\n",
              "      <td>DESIREE</td>\n",
              "      <td>125.0</td>\n",
              "      <td>N</td>\n",
              "      <td>3</td>\n",
              "    </tr>\n",
              "    <tr>\n",
              "      <th>3</th>\n",
              "      <td>ROSENDO</td>\n",
              "      <td>201.0</td>\n",
              "      <td>NaN</td>\n",
              "      <td>1</td>\n",
              "    </tr>\n",
              "    <tr>\n",
              "      <th>4</th>\n",
              "      <td>ROSENDO</td>\n",
              "      <td>203.0</td>\n",
              "      <td>Y</td>\n",
              "      <td>3</td>\n",
              "    </tr>\n",
              "  </tbody>\n",
              "</table>\n",
              "</div>"
            ],
            "text/plain": [
              "  PROPIETARIO  METROS PROPIEDAD_OCUPADA NUM_CUARTOS\n",
              "0      EDURNE   104.0                 Y           3\n",
              "1     DESIREE   197.0                 N           3\n",
              "2     DESIREE   125.0                 N           3\n",
              "3     ROSENDO   201.0               NaN           1\n",
              "4     ROSENDO   203.0                 Y           3"
            ]
          },
          "metadata": {
            "tags": []
          },
          "execution_count": 69
        }
      ]
    },
    {
      "cell_type": "code",
      "metadata": {
        "colab": {
          "base_uri": "https://localhost:8080/"
        },
        "id": "V2AzwS9XepQw",
        "outputId": "8a152dfd-2a7d-4a8f-ce1c-7af1967f485d"
      },
      "source": [
        "print(df['NUM_CUARTOS'])\n",
        "print(df['NUM_CUARTOS'].isnull())"
      ],
      "execution_count": 56,
      "outputs": [
        {
          "output_type": "stream",
          "text": [
            "0      3\n",
            "1      3\n",
            "2    NaN\n",
            "3      1\n",
            "4      3\n",
            "5    NaN\n",
            "6      2\n",
            "7    NaN\n",
            "8    NaN\n",
            "Name: NUM_CUARTOS, dtype: object\n",
            "0    False\n",
            "1    False\n",
            "2     True\n",
            "3    False\n",
            "4    False\n",
            "5     True\n",
            "6    False\n",
            "7     True\n",
            "8     True\n",
            "Name: NUM_CUARTOS, dtype: bool\n"
          ],
          "name": "stdout"
        }
      ]
    },
    {
      "cell_type": "markdown",
      "metadata": {
        "id": "PtYb7ypSfKvl"
      },
      "source": [
        "#Valores perdidos inesperados\n",
        "si se espera que nuestra función sea una cadena, pero hay un tipo numérico, técnicamente también es un valor faltante.\n",
        "\n",
        "En la columna \"PROPIEDAD_OCUPADA\" tenemos un ejemplo de esto."
      ]
    },
    {
      "cell_type": "code",
      "metadata": {
        "colab": {
          "base_uri": "https://localhost:8080/"
        },
        "id": "hOm2mJp-fKbL",
        "outputId": "44e646dc-c41a-4314-e6b9-4dbe8e36ec71"
      },
      "source": [
        "print(df['PROPIEDAD_OCUPADA'])\n",
        "print(df['PROPIEDAD_OCUPADA'].isnull())"
      ],
      "execution_count": 57,
      "outputs": [
        {
          "output_type": "stream",
          "text": [
            "0      Y\n",
            "1      N\n",
            "2      N\n",
            "3     12\n",
            "4      Y\n",
            "5      Y\n",
            "6    NaN\n",
            "7      Y\n",
            "8      Y\n",
            "Name: PROPIEDAD_OCUPADA, dtype: object\n",
            "0    False\n",
            "1    False\n",
            "2    False\n",
            "3    False\n",
            "4    False\n",
            "5    False\n",
            "6     True\n",
            "7    False\n",
            "8    False\n",
            "Name: PROPIEDAD_OCUPADA, dtype: bool\n"
          ],
          "name": "stdout"
        }
      ]
    },
    {
      "cell_type": "code",
      "metadata": {
        "id": "e9QJMgAngDSH"
      },
      "source": [
        "#En la cuarta fila, está el número 12. La respuesta para Propietario ocupado debe ser claramente una cadena (Y o N), por lo que este tipo numérico debe ser un valor faltante.\n",
        "cnt=0\n",
        "for row in df['PROPIEDAD_OCUPADA']:\n",
        "    try:\n",
        "        int(row)\n",
        "        df.loc[cnt, 'PROPIEDAD_OCUPADA']=np.nan\n",
        "    except ValueError:\n",
        "        pass\n",
        "    cnt+=1"
      ],
      "execution_count": 58,
      "outputs": []
    },
    {
      "cell_type": "markdown",
      "metadata": {
        "id": "0ihZ8u9Li9jJ"
      },
      "source": [
        "En el código, recorremos cada entrada de la columna \"PROPIEDAD_OCUPADA\". Para intentar cambiar la entrada a un número entero, usamos int (fila).\n",
        "\n",
        "Si el valor se puede cambiar a un número entero, cambiamos la entrada a un valor faltante usando np.nan de Numpy.\n",
        "Por otro lado, si no se puede cambiar a un número entero, pasamos y seguimos.\n",
        "\n",
        "El try y excepto ValueError, esto se llama manejo de excepciones y lo usamos para manejar errores.\n",
        "Si intentáramos cambiar una entrada a un número entero y no se pudiera cambiar, se devolvería un ValueError y el código se detendría. Para lidiar con esto, usamos el manejo de excepciones para reconocer estos errores y continuar.\n",
        "Otra parte importante del código es el método .loc. Este es el método de Pandas preferido para modificar entradas en su lugar, usando las coordenadas [fila, columna]"
      ]
    },
    {
      "cell_type": "markdown",
      "metadata": {
        "id": "UijpclQ2jakM"
      },
      "source": [
        "#Resumen de valores perdidos\n",
        "\n",
        "Una vez que hayamos limpiado los valores faltantes, probablemente querremos resumirlos. Por ejemplo, podríamos querer mirar el número total de valores perdidos para cada característica."
      ]
    },
    {
      "cell_type": "code",
      "metadata": {
        "colab": {
          "base_uri": "https://localhost:8080/"
        },
        "id": "52K8E_VTjaNA",
        "outputId": "2841d21f-0179-4a9f-c38a-f509bd3bc08e"
      },
      "source": [
        "#Numero de valores perdidos por cada característica\n",
        "df.isnull().sum()"
      ],
      "execution_count": 59,
      "outputs": [
        {
          "output_type": "execute_result",
          "data": {
            "text/plain": [
              "PROPIETARIO          0\n",
              "METROS               2\n",
              "PROPIEDAD_OCUPADA    2\n",
              "NUM_CUARTOS          4\n",
              "dtype: int64"
            ]
          },
          "metadata": {
            "tags": []
          },
          "execution_count": 59
        }
      ]
    },
    {
      "cell_type": "code",
      "metadata": {
        "colab": {
          "base_uri": "https://localhost:8080/"
        },
        "id": "zoObQ4dVkHiS",
        "outputId": "1143d002-1ddf-4326-83a5-5327ad33f61d"
      },
      "source": [
        "#También es posible que deseemos obtener un recuento total de valores perdidos.\n",
        "df.isnull().sum().sum()"
      ],
      "execution_count": 60,
      "outputs": [
        {
          "output_type": "execute_result",
          "data": {
            "text/plain": [
              "8"
            ]
          },
          "metadata": {
            "tags": []
          },
          "execution_count": 60
        }
      ]
    },
    {
      "cell_type": "markdown",
      "metadata": {
        "id": "yVJefq26kr5O"
      },
      "source": [
        "#Reemplazo\n",
        "A menudo, tendrá que averiguar cómo quiere manejar los valores perdidos.\n",
        "A veces, simplemente querrá eliminar esas filas, otras veces las reemplazará."
      ]
    },
    {
      "cell_type": "code",
      "metadata": {
        "id": "KpXWSrifk2bA"
      },
      "source": [
        "#Reemplazar los valores perdidos con un número\n",
        "df['METROS'].fillna(125, inplace=True)"
      ],
      "execution_count": 61,
      "outputs": []
    },
    {
      "cell_type": "code",
      "metadata": {
        "colab": {
          "base_uri": "https://localhost:8080/"
        },
        "id": "UcBFZR8ck7bI",
        "outputId": "37e9e7e9-10b5-4301-b7f7-04f3e2e5bdc4"
      },
      "source": [
        "df['METROS']"
      ],
      "execution_count": 62,
      "outputs": [
        {
          "output_type": "execute_result",
          "data": {
            "text/plain": [
              "0    104.0\n",
              "1    197.0\n",
              "2    125.0\n",
              "3    201.0\n",
              "4    203.0\n",
              "5    207.0\n",
              "6    125.0\n",
              "7    213.0\n",
              "8    215.0\n",
              "Name: METROS, dtype: float64"
            ]
          },
          "metadata": {
            "tags": []
          },
          "execution_count": 62
        }
      ]
    },
    {
      "cell_type": "code",
      "metadata": {
        "id": "8FXMqurilKnB"
      },
      "source": [
        "# Reemplazo basado en la ubicación\n",
        "df.loc [2, 'METROS'] = 125"
      ],
      "execution_count": 63,
      "outputs": []
    },
    {
      "cell_type": "code",
      "metadata": {
        "id": "VFKai8pllS8O"
      },
      "source": [
        "#Una forma muy común de reemplazar los valores perdidos es usar una mediana.\n",
        "# Reemplazar usando mediana\n",
        "mediana = df['NUM_CUARTOS'].median()\n",
        "df['NUM_CUARTOS'].fillna(mediana, inplace=True)"
      ],
      "execution_count": 64,
      "outputs": []
    },
    {
      "cell_type": "code",
      "metadata": {
        "colab": {
          "base_uri": "https://localhost:8080/"
        },
        "id": "v8a_sKSUlkos",
        "outputId": "4848b877-e80a-45a4-943e-2c313b6c8801"
      },
      "source": [
        "df['NUM_CUARTOS']"
      ],
      "execution_count": 65,
      "outputs": [
        {
          "output_type": "execute_result",
          "data": {
            "text/plain": [
              "0    3\n",
              "1    3\n",
              "2    3\n",
              "3    1\n",
              "4    3\n",
              "5    3\n",
              "6    2\n",
              "7    3\n",
              "8    3\n",
              "Name: NUM_CUARTOS, dtype: object"
            ]
          },
          "metadata": {
            "tags": []
          },
          "execution_count": 65
        }
      ]
    },
    {
      "cell_type": "code",
      "metadata": {
        "id": "jF_4eK3SvJtr"
      },
      "source": [
        "df.to_csv('/content/20210728_cleanData.csv',header=False)\n"
      ],
      "execution_count": 66,
      "outputs": []
    }
  ]
}