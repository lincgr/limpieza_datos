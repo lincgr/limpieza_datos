{
  "nbformat": 4,
  "nbformat_minor": 0,
  "metadata": {
    "colab": {
      "name": "Limpieza_datos.ipynb",
      "provenance": [],
      "collapsed_sections": [],
      "mount_file_id": "1OtG0J-VXgmKJmsCDnO1W_w64wHJgjXv6",
      "authorship_tag": "ABX9TyPU9DBaO52Mb8ntcghPb5oM",
      "include_colab_link": true
    },
    "kernelspec": {
      "name": "python3",
      "display_name": "Python 3"
    },
    "language_info": {
      "name": "python"
    }
  },
  "cells": [
    {
      "cell_type": "markdown",
      "metadata": {
        "id": "view-in-github",
        "colab_type": "text"
      },
      "source": [
        "<a href=\"https://colab.research.google.com/github/lincgr/limpieza_datos/blob/master/Limpieza_datos.ipynb\" target=\"_parent\"><img src=\"https://colab.research.google.com/assets/colab-badge.svg\" alt=\"Open In Colab\"/></a>"
      ]
    },
    {
      "cell_type": "code",
      "metadata": {
        "colab": {
          "base_uri": "https://localhost:8080/"
        },
        "id": "l6hINyZiHhU9",
        "outputId": "4b8d2459-682c-4d3c-8440-fcf3ec19dade"
      },
      "source": [
        "from google.colab import drive\n",
        "drive.mount('/content/drive')"
      ],
      "execution_count": 21,
      "outputs": [
        {
          "output_type": "stream",
          "text": [
            "Drive already mounted at /content/drive; to attempt to forcibly remount, call drive.mount(\"/content/drive\", force_remount=True).\n"
          ],
          "name": "stdout"
        }
      ]
    },
    {
      "cell_type": "code",
      "metadata": {
        "id": "vgk1Oy2JEXZe"
      },
      "source": [
        "# Cargamos las librerias necesarias\n",
        "import numpy as np\n",
        "import pandas as pd\n",
        "\n",
        "#Cargando datos adquiridos\n",
        "#df = dataframe\n",
        "df = pd.read_csv('/content/drive/MyDrive/Dataset/propiedades.csv')\n",
        "\n"
      ],
      "execution_count": 22,
      "outputs": []
    },
    {
      "cell_type": "code",
      "metadata": {
        "colab": {
          "base_uri": "https://localhost:8080/",
          "height": 204
        },
        "id": "hc1Tev1iX9RU",
        "outputId": "56cf39d8-6253-4d9e-933a-35de164da19a"
      },
      "source": [
        "#Mostrando una muestra de los datos. \n",
        "df.head()"
      ],
      "execution_count": 23,
      "outputs": [
        {
          "output_type": "execute_result",
          "data": {
            "text/html": [
              "<div>\n",
              "<style scoped>\n",
              "    .dataframe tbody tr th:only-of-type {\n",
              "        vertical-align: middle;\n",
              "    }\n",
              "\n",
              "    .dataframe tbody tr th {\n",
              "        vertical-align: top;\n",
              "    }\n",
              "\n",
              "    .dataframe thead th {\n",
              "        text-align: right;\n",
              "    }\n",
              "</style>\n",
              "<table border=\"1\" class=\"dataframe\">\n",
              "  <thead>\n",
              "    <tr style=\"text-align: right;\">\n",
              "      <th></th>\n",
              "      <th>PROPIETARIO</th>\n",
              "      <th>METROS</th>\n",
              "      <th>PROPIEDAD_OCUPADA</th>\n",
              "      <th>NUM_CUARTOS</th>\n",
              "    </tr>\n",
              "  </thead>\n",
              "  <tbody>\n",
              "    <tr>\n",
              "      <th>0</th>\n",
              "      <td>EDURNE</td>\n",
              "      <td>104.0</td>\n",
              "      <td>Y</td>\n",
              "      <td>3</td>\n",
              "    </tr>\n",
              "    <tr>\n",
              "      <th>1</th>\n",
              "      <td>DESIREE</td>\n",
              "      <td>197.0</td>\n",
              "      <td>N</td>\n",
              "      <td>3</td>\n",
              "    </tr>\n",
              "    <tr>\n",
              "      <th>2</th>\n",
              "      <td>DESIREE</td>\n",
              "      <td>NaN</td>\n",
              "      <td>N</td>\n",
              "      <td>NaN</td>\n",
              "    </tr>\n",
              "    <tr>\n",
              "      <th>3</th>\n",
              "      <td>ROSENDO</td>\n",
              "      <td>201.0</td>\n",
              "      <td>12</td>\n",
              "      <td>1</td>\n",
              "    </tr>\n",
              "    <tr>\n",
              "      <th>4</th>\n",
              "      <td>ROSENDO</td>\n",
              "      <td>203.0</td>\n",
              "      <td>Y</td>\n",
              "      <td>3</td>\n",
              "    </tr>\n",
              "  </tbody>\n",
              "</table>\n",
              "</div>"
            ],
            "text/plain": [
              "  PROPIETARIO  METROS PROPIEDAD_OCUPADA NUM_CUARTOS\n",
              "0      EDURNE   104.0                 Y           3\n",
              "1     DESIREE   197.0                 N           3\n",
              "2     DESIREE     NaN                 N         NaN\n",
              "3     ROSENDO   201.0                12           1\n",
              "4     ROSENDO   203.0                 Y           3"
            ]
          },
          "metadata": {
            "tags": []
          },
          "execution_count": 23
        }
      ]
    },
    {
      "cell_type": "markdown",
      "metadata": {
        "id": "0tpHKOHBXkac"
      },
      "source": [
        "#Valores perdidos estándar\n",
        "Entonces, ¿qué quiero decir con \"valores perdidos estándar\"? Estos son valores perdidos que Pandas puede detectar."
      ]
    },
    {
      "cell_type": "code",
      "metadata": {
        "colab": {
          "base_uri": "https://localhost:8080/"
        },
        "id": "THDNyYhkXjGL",
        "outputId": "d92c0810-7f6a-400e-8b64-ee364c84d1f3"
      },
      "source": [
        "#Valores de la Calle\n",
        "print(df['METROS'])\n"
      ],
      "execution_count": 24,
      "outputs": [
        {
          "output_type": "stream",
          "text": [
            "0    104.0\n",
            "1    197.0\n",
            "2      NaN\n",
            "3    201.0\n",
            "4    203.0\n",
            "5    207.0\n",
            "6      NaN\n",
            "7    213.0\n",
            "8    215.0\n",
            "Name: METROS, dtype: float64\n"
          ],
          "name": "stdout"
        }
      ]
    },
    {
      "cell_type": "code",
      "metadata": {
        "colab": {
          "base_uri": "https://localhost:8080/"
        },
        "id": "-o8W1R0dYR8w",
        "outputId": "2d1f2ec5-8fc7-401d-c342-626b587c23cf"
      },
      "source": [
        "#Mostrar si son nulos o no\n",
        "#Echando un vistazo a la columna, podemos ver que Pandas llenó el espacio en blanco con \"NA\". \n",
        "#Usando el método isnull (), podemos confirmar que tanto el valor perdido (Blanco) como “NA” fueron reconocidos como valores perdidos. \n",
        "#Ambas respuestas booleanas son verdaderas.\n",
        "\n",
        "#Este es un ejemplo simple, pero destaca un punto importante. \n",
        "#Pandas reconocerá tanto las celdas vacías como los tipos \"NA\" como valores perdidos.\n",
        "\n",
        "\n",
        "print(df['METROS'].isnull())"
      ],
      "execution_count": 25,
      "outputs": [
        {
          "output_type": "stream",
          "text": [
            "0    False\n",
            "1    False\n",
            "2     True\n",
            "3    False\n",
            "4    False\n",
            "5    False\n",
            "6     True\n",
            "7    False\n",
            "8    False\n",
            "Name: METROS, dtype: bool\n"
          ],
          "name": "stdout"
        }
      ]
    },
    {
      "cell_type": "markdown",
      "metadata": {
        "id": "vf7_5T2FcPME"
      },
      "source": [
        "#Valores perdidos no estándar \n",
        "A veces puede darse el caso de que falten valores que tengan diferentes formatos. Por ejemplo en la columna Numero de cuartos [--, na]"
      ]
    },
    {
      "cell_type": "code",
      "metadata": {
        "colab": {
          "base_uri": "https://localhost:8080/"
        },
        "id": "NEbzbPmqctWs",
        "outputId": "fd71ef3d-8921-4db0-ad12-9666925fa198"
      },
      "source": [
        "df['NUM_CUARTOS']"
      ],
      "execution_count": 26,
      "outputs": [
        {
          "output_type": "execute_result",
          "data": {
            "text/plain": [
              "0      3\n",
              "1      3\n",
              "2    NaN\n",
              "3      1\n",
              "4      3\n",
              "5    NaN\n",
              "6      2\n",
              "7     --\n",
              "8     na\n",
              "Name: NUM_CUARTOS, dtype: object"
            ]
          },
          "metadata": {
            "tags": []
          },
          "execution_count": 26
        }
      ]
    },
    {
      "cell_type": "code",
      "metadata": {
        "colab": {
          "base_uri": "https://localhost:8080/"
        },
        "id": "V9WkNkZcdyTq",
        "outputId": "9d9fc1fe-5932-4fd0-9241-e3a6e7fcaeb1"
      },
      "source": [
        "df['NUM_CUARTOS'].isnull()"
      ],
      "execution_count": 27,
      "outputs": [
        {
          "output_type": "execute_result",
          "data": {
            "text/plain": [
              "0    False\n",
              "1    False\n",
              "2     True\n",
              "3    False\n",
              "4    False\n",
              "5     True\n",
              "6    False\n",
              "7    False\n",
              "8    False\n",
              "Name: NUM_CUARTOS, dtype: bool"
            ]
          },
          "metadata": {
            "tags": []
          },
          "execution_count": 27
        }
      ]
    },
    {
      "cell_type": "markdown",
      "metadata": {
        "id": "iS-1sJnCe5qT"
      },
      "source": [
        "Si varios usuarios ingresan datos manualmente, este es un problema común. Tal vez un usuario utiliza \"--\" pero otro usuario puede colocar \"na\".\n",
        "Una forma sencilla de detectar estos distintos formatos es ponerlos en una lista.\n",
        "\n",
        "na_values: se utiliza para crear una cadena que considera a los pandas como NaN (no es un número).\n"
      ]
    },
    {
      "cell_type": "code",
      "metadata": {
        "id": "_88BhFxdeIfA"
      },
      "source": [
        "valores_faltants = [\"na\", \"--\"]\n",
        "df = pd.read_csv('/content/drive/MyDrive/Dataset/propiedades.csv', na_values = valores_faltants)"
      ],
      "execution_count": 28,
      "outputs": []
    },
    {
      "cell_type": "code",
      "metadata": {
        "colab": {
          "base_uri": "https://localhost:8080/"
        },
        "id": "V2AzwS9XepQw",
        "outputId": "cfb3243b-36e8-4ea7-b7e7-a3e411816d3f"
      },
      "source": [
        "print(df['NUM_CUARTOS'])\n",
        "print(df['NUM_CUARTOS'].isnull())"
      ],
      "execution_count": 29,
      "outputs": [
        {
          "output_type": "stream",
          "text": [
            "0    3.0\n",
            "1    3.0\n",
            "2    NaN\n",
            "3    1.0\n",
            "4    3.0\n",
            "5    NaN\n",
            "6    2.0\n",
            "7    NaN\n",
            "8    NaN\n",
            "Name: NUM_CUARTOS, dtype: float64\n",
            "0    False\n",
            "1    False\n",
            "2     True\n",
            "3    False\n",
            "4    False\n",
            "5     True\n",
            "6    False\n",
            "7     True\n",
            "8     True\n",
            "Name: NUM_CUARTOS, dtype: bool\n"
          ],
          "name": "stdout"
        }
      ]
    },
    {
      "cell_type": "markdown",
      "metadata": {
        "id": "PtYb7ypSfKvl"
      },
      "source": [
        "#Valores perdidos inesperados\n",
        "si se espera que nuestra función sea una cadena, pero hay un tipo numérico, técnicamente también es un valor faltante.\n",
        "\n",
        "En la columna \"PROPIEDAD_OCUPADA\" tenemos un ejemplo de esto."
      ]
    },
    {
      "cell_type": "code",
      "metadata": {
        "colab": {
          "base_uri": "https://localhost:8080/"
        },
        "id": "hOm2mJp-fKbL",
        "outputId": "e86e495c-3755-439f-d425-64b15c5b7d6b"
      },
      "source": [
        "print(df['PROPIEDAD_OCUPADA'])\n",
        "print(df['PROPIEDAD_OCUPADA'].isnull())"
      ],
      "execution_count": 30,
      "outputs": [
        {
          "output_type": "stream",
          "text": [
            "0      Y\n",
            "1      N\n",
            "2      N\n",
            "3     12\n",
            "4      Y\n",
            "5      Y\n",
            "6    NaN\n",
            "7      Y\n",
            "8      Y\n",
            "Name: PROPIEDAD_OCUPADA, dtype: object\n",
            "0    False\n",
            "1    False\n",
            "2    False\n",
            "3    False\n",
            "4    False\n",
            "5    False\n",
            "6     True\n",
            "7    False\n",
            "8    False\n",
            "Name: PROPIEDAD_OCUPADA, dtype: bool\n"
          ],
          "name": "stdout"
        }
      ]
    },
    {
      "cell_type": "code",
      "metadata": {
        "id": "e9QJMgAngDSH"
      },
      "source": [
        "#En la cuarta fila, está el número 12. La respuesta para Propietario ocupado debe ser claramente una cadena (Y o N), por lo que este tipo numérico debe ser un valor faltante.\n",
        "cnt=0\n",
        "for row in df['PROPIEDAD_OCUPADA']:\n",
        "    try:\n",
        "        int(row)\n",
        "        df.loc[cnt, 'PROPIEDAD_OCUPADA']=np.nan\n",
        "    except ValueError:\n",
        "        pass\n",
        "    cnt+=1"
      ],
      "execution_count": 31,
      "outputs": []
    },
    {
      "cell_type": "markdown",
      "metadata": {
        "id": "0ihZ8u9Li9jJ"
      },
      "source": [
        "En el código, recorremos cada entrada de la columna \"PROPIEDAD_OCUPADA\". Para intentar cambiar la entrada a un número entero, usamos int (fila).\n",
        "\n",
        "Si el valor se puede cambiar a un número entero, cambiamos la entrada a un valor faltante usando np.nan de Numpy.\n",
        "Por otro lado, si no se puede cambiar a un número entero, pasamos y seguimos.\n",
        "\n",
        "El try y excepto ValueError, esto se llama manejo de excepciones y lo usamos para manejar errores.\n",
        "Si intentáramos cambiar una entrada a un número entero y no se pudiera cambiar, se devolvería un ValueError y el código se detendría. Para lidiar con esto, usamos el manejo de excepciones para reconocer estos errores y continuar.\n",
        "Otra parte importante del código es el método .loc. Este es el método de Pandas preferido para modificar entradas en su lugar, usando las coordenadas [fila, columna]"
      ]
    },
    {
      "cell_type": "markdown",
      "metadata": {
        "id": "UijpclQ2jakM"
      },
      "source": [
        "#Resumen de valores perdidos\n",
        "\n",
        "Una vez que hayamos limpiado los valores faltantes, probablemente querremos resumirlos. Por ejemplo, podríamos querer mirar el número total de valores perdidos para cada característica."
      ]
    },
    {
      "cell_type": "code",
      "metadata": {
        "colab": {
          "base_uri": "https://localhost:8080/"
        },
        "id": "52K8E_VTjaNA",
        "outputId": "9908bc89-a91c-42b4-ec60-4d6319ab2a53"
      },
      "source": [
        "#Numero de valores perdidos por cada característica\n",
        "df.isnull().sum()"
      ],
      "execution_count": 32,
      "outputs": [
        {
          "output_type": "execute_result",
          "data": {
            "text/plain": [
              "PROPIETARIO          0\n",
              "METROS               2\n",
              "PROPIEDAD_OCUPADA    2\n",
              "NUM_CUARTOS          4\n",
              "dtype: int64"
            ]
          },
          "metadata": {
            "tags": []
          },
          "execution_count": 32
        }
      ]
    },
    {
      "cell_type": "code",
      "metadata": {
        "colab": {
          "base_uri": "https://localhost:8080/"
        },
        "id": "zoObQ4dVkHiS",
        "outputId": "c2c47259-b66c-44b4-ec5f-2fa77bd00a7e"
      },
      "source": [
        "#También es posible que deseemos obtener un recuento total de valores perdidos.\n",
        "df.isnull().sum().sum()"
      ],
      "execution_count": 33,
      "outputs": [
        {
          "output_type": "execute_result",
          "data": {
            "text/plain": [
              "8"
            ]
          },
          "metadata": {
            "tags": []
          },
          "execution_count": 33
        }
      ]
    },
    {
      "cell_type": "markdown",
      "metadata": {
        "id": "yVJefq26kr5O"
      },
      "source": [
        "#Reemplazo\n",
        "A menudo, tendrá que averiguar cómo quiere manejar los valores perdidos.\n",
        "A veces, simplemente querrá eliminar esas filas, otras veces las reemplazará."
      ]
    },
    {
      "cell_type": "code",
      "metadata": {
        "id": "KpXWSrifk2bA"
      },
      "source": [
        "#Reemplazar los valores perdidos con un número\n",
        "df['METROS'].fillna(125, inplace=True)"
      ],
      "execution_count": 34,
      "outputs": []
    },
    {
      "cell_type": "code",
      "metadata": {
        "colab": {
          "base_uri": "https://localhost:8080/"
        },
        "id": "UcBFZR8ck7bI",
        "outputId": "d238f167-7d29-4e61-c0f7-614e0fde2ba0"
      },
      "source": [
        "df['METROS']"
      ],
      "execution_count": 35,
      "outputs": [
        {
          "output_type": "execute_result",
          "data": {
            "text/plain": [
              "0    104.0\n",
              "1    197.0\n",
              "2    125.0\n",
              "3    201.0\n",
              "4    203.0\n",
              "5    207.0\n",
              "6    125.0\n",
              "7    213.0\n",
              "8    215.0\n",
              "Name: METROS, dtype: float64"
            ]
          },
          "metadata": {
            "tags": []
          },
          "execution_count": 35
        }
      ]
    },
    {
      "cell_type": "code",
      "metadata": {
        "id": "8FXMqurilKnB"
      },
      "source": [
        "# Reemplazo basado en la ubicación\n",
        "df.loc [2, 'METROS'] = 125"
      ],
      "execution_count": 36,
      "outputs": []
    },
    {
      "cell_type": "code",
      "metadata": {
        "id": "VFKai8pllS8O"
      },
      "source": [
        "#Una forma muy común de reemplazar los valores perdidos es usar una mediana.\n",
        "# Reemplazar usando mediana\n",
        "mediana = df['NUM_CUARTOS'].median()\n",
        "df['NUM_CUARTOS'].fillna(mediana, inplace=True)"
      ],
      "execution_count": 37,
      "outputs": []
    },
    {
      "cell_type": "code",
      "metadata": {
        "colab": {
          "base_uri": "https://localhost:8080/"
        },
        "id": "v8a_sKSUlkos",
        "outputId": "59ce9d41-91e3-4172-f299-cdfe5f40596b"
      },
      "source": [
        "df['NUM_CUARTOS']"
      ],
      "execution_count": 38,
      "outputs": [
        {
          "output_type": "execute_result",
          "data": {
            "text/plain": [
              "0    3.0\n",
              "1    3.0\n",
              "2    3.0\n",
              "3    1.0\n",
              "4    3.0\n",
              "5    3.0\n",
              "6    2.0\n",
              "7    3.0\n",
              "8    3.0\n",
              "Name: NUM_CUARTOS, dtype: float64"
            ]
          },
          "metadata": {
            "tags": []
          },
          "execution_count": 38
        }
      ]
    },
    {
      "cell_type": "code",
      "metadata": {
        "id": "jF_4eK3SvJtr"
      },
      "source": [
        "df.to_csv('/content/drive/MyDrive/Dataset/20210721_cleanData.csv',header=False)\n"
      ],
      "execution_count": 39,
      "outputs": []
    }
  ]
}